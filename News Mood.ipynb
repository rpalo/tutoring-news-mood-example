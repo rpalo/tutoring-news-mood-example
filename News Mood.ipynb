{
 "cells": [
  {
   "cell_type": "code",
   "execution_count": 28,
   "metadata": {},
   "outputs": [],
   "source": [
    "from matplotlib import pyplot as plt\n",
    "import pandas as pd\n",
    "import seaborn\n",
    "import tweepy\n",
    "from vaderSentiment.vaderSentiment import SentimentIntensityAnalyzer\n",
    "\n",
    "from secrets import CONSUMER_KEY, CONSUMER_SECRET, ACCESS_TOKEN, ACCESS_SECRET\n",
    "\n",
    "seaborn.set()"
   ]
  },
  {
   "cell_type": "code",
   "execution_count": 2,
   "metadata": {},
   "outputs": [],
   "source": [
    "NEWS_ORGS = {\n",
    "    \"BBC\": \"@BBC\",\n",
    "    \"CBS\": \"@CBS\",\n",
    "    \"FOX\": \"@FoxNews\",\n",
    "    \"NYT\": \"@nytimes\",\n",
    "}"
   ]
  },
  {
   "cell_type": "code",
   "execution_count": 3,
   "metadata": {},
   "outputs": [],
   "source": [
    "def get_api(consumer_key, consumer_secret, access_token, access_secret):\n",
    "    \"\"\"Returns a handle on the Twitter API, provided by Tweepy\"\"\"\n",
    "    auth = tweepy.OAuthHandler(consumer_key, consumer_secret)\n",
    "    auth.set_access_token(access_token, access_secret)\n",
    "\n",
    "    return tweepy.API(auth)"
   ]
  },
  {
   "cell_type": "code",
   "execution_count": 6,
   "metadata": {},
   "outputs": [],
   "source": [
    "api = get_api(CONSUMER_KEY, CONSUMER_SECRET, ACCESS_TOKEN, ACCESS_SECRET)"
   ]
  },
  {
   "cell_type": "code",
   "execution_count": 9,
   "metadata": {},
   "outputs": [],
   "source": [
    "def get_recent_tweets(api, orgs, count=100):\n",
    "    \"\"\"Downloads the 'count' most recent tweets from each org.\n",
    "\n",
    "    api: twitter API handle, provided by Tweepy\n",
    "    orgs: dictionary of {org name: twitter handle}\n",
    "    count: number of tweets per org to get\n",
    "    Returns a dictionary of {org name: [statuses...]}\n",
    "    \"\"\"\n",
    "    results = {}\n",
    "    for org, handle in orgs.items():\n",
    "        most_recent_statuses = api.user_timeline(handle, count=100)\n",
    "        results[org] = most_recent_statuses\n",
    "    return results"
   ]
  },
  {
   "cell_type": "code",
   "execution_count": 10,
   "metadata": {},
   "outputs": [],
   "source": [
    "recents = get_recent_tweets(api, NEWS_ORGS)"
   ]
  },
  {
   "cell_type": "code",
   "execution_count": 18,
   "metadata": {},
   "outputs": [
    {
     "data": {
      "text/plain": [
       "['__class__',\n",
       " '__delattr__',\n",
       " '__dict__',\n",
       " '__dir__',\n",
       " '__doc__',\n",
       " '__eq__',\n",
       " '__format__',\n",
       " '__ge__',\n",
       " '__getattribute__',\n",
       " '__getstate__',\n",
       " '__gt__',\n",
       " '__hash__',\n",
       " '__init__',\n",
       " '__init_subclass__',\n",
       " '__le__',\n",
       " '__lt__',\n",
       " '__module__',\n",
       " '__ne__',\n",
       " '__new__',\n",
       " '__reduce__',\n",
       " '__reduce_ex__',\n",
       " '__repr__',\n",
       " '__setattr__',\n",
       " '__sizeof__',\n",
       " '__str__',\n",
       " '__subclasshook__',\n",
       " '__weakref__',\n",
       " '_api',\n",
       " '_json',\n",
       " 'author',\n",
       " 'contributors',\n",
       " 'coordinates',\n",
       " 'created_at',\n",
       " 'destroy',\n",
       " 'entities',\n",
       " 'extended_entities',\n",
       " 'favorite',\n",
       " 'favorite_count',\n",
       " 'favorited',\n",
       " 'geo',\n",
       " 'id',\n",
       " 'id_str',\n",
       " 'in_reply_to_screen_name',\n",
       " 'in_reply_to_status_id',\n",
       " 'in_reply_to_status_id_str',\n",
       " 'in_reply_to_user_id',\n",
       " 'in_reply_to_user_id_str',\n",
       " 'is_quote_status',\n",
       " 'lang',\n",
       " 'parse',\n",
       " 'parse_list',\n",
       " 'place',\n",
       " 'possibly_sensitive',\n",
       " 'retweet',\n",
       " 'retweet_count',\n",
       " 'retweeted',\n",
       " 'retweets',\n",
       " 'source',\n",
       " 'source_url',\n",
       " 'text',\n",
       " 'truncated',\n",
       " 'user']"
      ]
     },
     "execution_count": 18,
     "metadata": {},
     "output_type": "execute_result"
    }
   ],
   "source": [
    "dir(recents[\"BBC\"][0])"
   ]
  },
  {
   "cell_type": "code",
   "execution_count": 26,
   "metadata": {},
   "outputs": [
    {
     "name": "stdout",
     "output_type": "stream",
     "text": [
      "<class 'datetime.datetime'>\n"
     ]
    },
    {
     "data": {
      "text/plain": [
       "datetime.date(2018, 4, 5)"
      ]
     },
     "execution_count": 26,
     "metadata": {},
     "output_type": "execute_result"
    }
   ],
   "source": [
    "this_tweet = recents[\"BBC\"][0]\n",
    "print(type(this_tweet.created_at))\n",
    "this_tweet.created_at.date()"
   ]
  },
  {
   "cell_type": "code",
   "execution_count": 21,
   "metadata": {},
   "outputs": [],
   "source": [
    "def analyze_tweets(tweets):\n",
    "    \"\"\"Analyze polarity sentiments of tweets.\n",
    "    tweets: a list of Tweepy Status objects.\n",
    "    Returns: a list of VADER polarity scores of the form\n",
    "             {'neg': 0.0, 'neu': 0.254, 'pos': 0.746, 'compound': 0.8316}\n",
    "    \"\"\"\n",
    "    texts = [tweet.text for tweet in tweets]\n",
    "    analyzer = SentimentIntensityAnalyzer()\n",
    "    return [analyzer.polarity_scores(text) for text in texts]"
   ]
  },
  {
   "cell_type": "code",
   "execution_count": 22,
   "metadata": {},
   "outputs": [
    {
     "data": {
      "text/plain": [
       "[{'compound': 0.7096, 'neg': 0.0, 'neu': 0.629, 'pos': 0.371},\n",
       " {'compound': 0.0, 'neg': 0.0, 'neu': 1.0, 'pos': 0.0},\n",
       " {'compound': -0.765, 'neg': 0.32, 'neu': 0.68, 'pos': 0.0},\n",
       " {'compound': 0.0, 'neg': 0.0, 'neu': 1.0, 'pos': 0.0},\n",
       " {'compound': 0.0, 'neg': 0.0, 'neu': 1.0, 'pos': 0.0}]"
      ]
     },
     "execution_count": 22,
     "metadata": {},
     "output_type": "execute_result"
    }
   ],
   "source": [
    "org_sentiments = {org: analyze_tweets(tweets) for (org, tweets) in recents.items()}\n",
    "org_sentiments[\"BBC\"][:5]"
   ]
  },
  {
   "cell_type": "code",
   "execution_count": 27,
   "metadata": {},
   "outputs": [
    {
     "data": {
      "text/html": [
       "<div>\n",
       "<style>\n",
       "    .dataframe thead tr:only-child th {\n",
       "        text-align: right;\n",
       "    }\n",
       "\n",
       "    .dataframe thead th {\n",
       "        text-align: left;\n",
       "    }\n",
       "\n",
       "    .dataframe tbody tr th {\n",
       "        vertical-align: top;\n",
       "    }\n",
       "</style>\n",
       "<table border=\"1\" class=\"dataframe\">\n",
       "  <thead>\n",
       "    <tr style=\"text-align: right;\">\n",
       "      <th></th>\n",
       "      <th>date</th>\n",
       "      <th>organization</th>\n",
       "      <th>text</th>\n",
       "      <th>neg</th>\n",
       "      <th>neu</th>\n",
       "      <th>pos</th>\n",
       "      <th>compound</th>\n",
       "    </tr>\n",
       "  </thead>\n",
       "  <tbody>\n",
       "    <tr>\n",
       "      <th>0</th>\n",
       "      <td>2018-04-05</td>\n",
       "      <td>BBC</td>\n",
       "      <td>🐆 Could building walkways in nature help save ...</td>\n",
       "      <td>0.00</td>\n",
       "      <td>0.629</td>\n",
       "      <td>0.371</td>\n",
       "      <td>0.7096</td>\n",
       "    </tr>\n",
       "    <tr>\n",
       "      <th>1</th>\n",
       "      <td>2018-04-05</td>\n",
       "      <td>BBC</td>\n",
       "      <td>😋😋 Pocket-friendly recipes for two.\\n👉 https:/...</td>\n",
       "      <td>0.00</td>\n",
       "      <td>1.000</td>\n",
       "      <td>0.000</td>\n",
       "      <td>0.0000</td>\n",
       "    </tr>\n",
       "    <tr>\n",
       "      <th>2</th>\n",
       "      <td>2018-04-05</td>\n",
       "      <td>BBC</td>\n",
       "      <td>👀 From illegal ivory to taxidermy, take a peek...</td>\n",
       "      <td>0.32</td>\n",
       "      <td>0.680</td>\n",
       "      <td>0.000</td>\n",
       "      <td>-0.7650</td>\n",
       "    </tr>\n",
       "    <tr>\n",
       "      <th>3</th>\n",
       "      <td>2018-04-05</td>\n",
       "      <td>BBC</td>\n",
       "      <td>RT @bbccomedy: Smithy is an irl ray of #sunshi...</td>\n",
       "      <td>0.00</td>\n",
       "      <td>1.000</td>\n",
       "      <td>0.000</td>\n",
       "      <td>0.0000</td>\n",
       "    </tr>\n",
       "    <tr>\n",
       "      <th>4</th>\n",
       "      <td>2018-04-05</td>\n",
       "      <td>BBC</td>\n",
       "      <td>RT @BBCTheOneShow: ..@DIYSOS  are building a g...</td>\n",
       "      <td>0.00</td>\n",
       "      <td>1.000</td>\n",
       "      <td>0.000</td>\n",
       "      <td>0.0000</td>\n",
       "    </tr>\n",
       "  </tbody>\n",
       "</table>\n",
       "</div>"
      ],
      "text/plain": [
       "         date organization                                               text  \\\n",
       "0  2018-04-05          BBC  🐆 Could building walkways in nature help save ...   \n",
       "1  2018-04-05          BBC  😋😋 Pocket-friendly recipes for two.\\n👉 https:/...   \n",
       "2  2018-04-05          BBC  👀 From illegal ivory to taxidermy, take a peek...   \n",
       "3  2018-04-05          BBC  RT @bbccomedy: Smithy is an irl ray of #sunshi...   \n",
       "4  2018-04-05          BBC  RT @BBCTheOneShow: ..@DIYSOS  are building a g...   \n",
       "\n",
       "    neg    neu    pos  compound  \n",
       "0  0.00  0.629  0.371    0.7096  \n",
       "1  0.00  1.000  0.000    0.0000  \n",
       "2  0.32  0.680  0.000   -0.7650  \n",
       "3  0.00  1.000  0.000    0.0000  \n",
       "4  0.00  1.000  0.000    0.0000  "
      ]
     },
     "execution_count": 27,
     "metadata": {},
     "output_type": "execute_result"
    }
   ],
   "source": [
    "df_data = []\n",
    "for org, tweets in recents.items():\n",
    "    for ind, tweet in enumerate(tweets):\n",
    "        df_data.append([\n",
    "            tweet.created_at.date(),\n",
    "            org,\n",
    "            tweet.text,\n",
    "            org_sentiments[org][ind][\"neg\"],\n",
    "            org_sentiments[org][ind][\"neu\"],\n",
    "            org_sentiments[org][ind][\"pos\"],\n",
    "            org_sentiments[org][ind][\"compound\"],\n",
    "        ])\n",
    "tweet_data = pd.DataFrame(df_data)\n",
    "tweet_data.columns = [\"date\", \"organization\", \"text\", \"neg\", \"neu\", \"pos\", \"compound\"]\n",
    "tweet_data.head()"
   ]
  },
  {
   "cell_type": "code",
   "execution_count": 52,
   "metadata": {},
   "outputs": [
    {
     "name": "stdout",
     "output_type": "stream",
     "text": [
      "(400, 7)\n"
     ]
    }
   ],
   "source": [
    "print(tweet_data.shape)"
   ]
  },
  {
   "cell_type": "code",
   "execution_count": 43,
   "metadata": {},
   "outputs": [
    {
     "data": {
      "image/png": "[encoded data removed]",
      "text/plain": [
       "<matplotlib.figure.Figure at 0xbfa4208>"
      ]
     },
     "metadata": {},
     "output_type": "display_data"
    }
   ],
   "source": [
    "for org in NEWS_ORGS.keys():\n",
    "    subset = tweet_data[tweet_data[\"organization\"]==org]\n",
    "    plt.plot(subset[\"date\"], subset[\"compound\"], 'o', label=org)\n",
    "    \n",
    "plt.legend()\n",
    "plt.show()"
   ]
  },
  {
   "cell_type": "code",
   "execution_count": 53,
   "metadata": {},
   "outputs": [],
   "source": [
    "tweet_data.to_csv(\"4-5-18-1344_tweet_data.csv\")"
   ]
  },
  {
   "cell_type": "code",
   "execution_count": null,
   "metadata": {},
   "outputs": [],
   "source": []
  }
 ],
 "metadata": {
  "kernelspec": {
   "display_name": "Python 3",
   "language": "python",
   "name": "python3"
  },
  "language_info": {
   "codemirror_mode": {
    "name": "ipython",
    "version": 3
   },
   "file_extension": ".py",
   "mimetype": "text/x-python",
   "name": "python",
   "nbconvert_exporter": "python",
   "pygments_lexer": "ipython3",
   "version": "3.6.1"
  }
 },
 "nbformat": 4,
 "nbformat_minor": 2
}
