{
 "cells": [
  {
   "cell_type": "code",
   "execution_count": 26,
   "metadata": {},
   "outputs": [],
   "source": [
    "from datetime import date\n",
    "\n",
    "from matplotlib import pyplot as plt\n",
    "import numpy as np\n",
    "import pandas as pd\n",
    "import seaborn\n",
    "import tweepy\n",
    "from vaderSentiment.vaderSentiment import SentimentIntensityAnalyzer\n",
    "\n",
    "from secrets import CONSUMER_KEY, CONSUMER_SECRET, ACCESS_TOKEN, ACCESS_SECRET\n",
    "\n",
    "seaborn.set()"
   ]
  },
  {
   "cell_type": "code",
   "execution_count": 4,
   "metadata": {},
   "outputs": [],
   "source": [
    "NEWS_ORGS = {\n",
    "    \"BBC\": \"@BBC\",\n",
    "    \"CBS\": \"@CBS\",\n",
    "    \"FOX\": \"@FoxNews\",\n",
    "    \"NYT\": \"@nytimes\",\n",
    "}"
   ]
  },
  {
   "cell_type": "code",
   "execution_count": 5,
   "metadata": {},
   "outputs": [],
   "source": [
    "def get_api(consumer_key, consumer_secret, access_token, access_secret):\n",
    "    \"\"\"Returns a handle on the Twitter API, provided by Tweepy\"\"\"\n",
    "    auth = tweepy.OAuthHandler(consumer_key, consumer_secret)\n",
    "    auth.set_access_token(access_token, access_secret)\n",
    "\n",
    "    return tweepy.API(auth)"
   ]
  },
  {
   "cell_type": "code",
   "execution_count": 6,
   "metadata": {},
   "outputs": [],
   "source": [
    "api = get_api(CONSUMER_KEY, CONSUMER_SECRET, ACCESS_TOKEN, ACCESS_SECRET)"
   ]
  },
  {
   "cell_type": "code",
   "execution_count": 7,
   "metadata": {},
   "outputs": [],
   "source": [
    "def get_recent_tweets(api, orgs, count=100):\n",
    "    \"\"\"Downloads the 'count' most recent tweets from each org.\n",
    "\n",
    "    api: twitter API handle, provided by Tweepy\n",
    "    orgs: dictionary of {org name: twitter handle}\n",
    "    count: number of tweets per org to get\n",
    "    Returns a dictionary of {org name: [statuses...]}\n",
    "    \"\"\"\n",
    "    results = {}\n",
    "    for org, handle in orgs.items():\n",
    "        most_recent_statuses = api.user_timeline(handle, count=100)\n",
    "        results[org] = most_recent_statuses\n",
    "    return results"
   ]
  },
  {
   "cell_type": "code",
   "execution_count": 8,
   "metadata": {},
   "outputs": [],
   "source": [
    "recents = get_recent_tweets(api, NEWS_ORGS)"
   ]
  },
  {
   "cell_type": "code",
   "execution_count": 9,
   "metadata": {},
   "outputs": [
    {
     "data": {
      "text/plain": [
       "['__class__',\n",
       " '__delattr__',\n",
       " '__dict__',\n",
       " '__dir__',\n",
       " '__doc__',\n",
       " '__eq__',\n",
       " '__format__',\n",
       " '__ge__',\n",
       " '__getattribute__',\n",
       " '__getstate__',\n",
       " '__gt__',\n",
       " '__hash__',\n",
       " '__init__',\n",
       " '__init_subclass__',\n",
       " '__le__',\n",
       " '__lt__',\n",
       " '__module__',\n",
       " '__ne__',\n",
       " '__new__',\n",
       " '__reduce__',\n",
       " '__reduce_ex__',\n",
       " '__repr__',\n",
       " '__setattr__',\n",
       " '__sizeof__',\n",
       " '__str__',\n",
       " '__subclasshook__',\n",
       " '__weakref__',\n",
       " '_api',\n",
       " '_json',\n",
       " 'author',\n",
       " 'contributors',\n",
       " 'coordinates',\n",
       " 'created_at',\n",
       " 'destroy',\n",
       " 'entities',\n",
       " 'favorite',\n",
       " 'favorite_count',\n",
       " 'favorited',\n",
       " 'geo',\n",
       " 'id',\n",
       " 'id_str',\n",
       " 'in_reply_to_screen_name',\n",
       " 'in_reply_to_status_id',\n",
       " 'in_reply_to_status_id_str',\n",
       " 'in_reply_to_user_id',\n",
       " 'in_reply_to_user_id_str',\n",
       " 'is_quote_status',\n",
       " 'lang',\n",
       " 'parse',\n",
       " 'parse_list',\n",
       " 'place',\n",
       " 'possibly_sensitive',\n",
       " 'retweet',\n",
       " 'retweet_count',\n",
       " 'retweeted',\n",
       " 'retweets',\n",
       " 'source',\n",
       " 'source_url',\n",
       " 'text',\n",
       " 'truncated',\n",
       " 'user']"
      ]
     },
     "execution_count": 9,
     "metadata": {},
     "output_type": "execute_result"
    }
   ],
   "source": [
    "dir(recents[\"BBC\"][0])"
   ]
  },
  {
   "cell_type": "code",
   "execution_count": 10,
   "metadata": {},
   "outputs": [
    {
     "name": "stdout",
     "output_type": "stream",
     "text": [
      "<class 'datetime.datetime'>\n"
     ]
    },
    {
     "data": {
      "text/plain": [
       "datetime.date(2018, 4, 5)"
      ]
     },
     "execution_count": 10,
     "metadata": {},
     "output_type": "execute_result"
    }
   ],
   "source": [
    "this_tweet = recents[\"BBC\"][0]\n",
    "print(type(this_tweet.created_at))\n",
    "this_tweet.created_at.date()"
   ]
  },
  {
   "cell_type": "code",
   "execution_count": 11,
   "metadata": {},
   "outputs": [],
   "source": [
    "def analyze_tweets(tweets):\n",
    "    \"\"\"Analyze polarity sentiments of tweets.\n",
    "    tweets: a list of Tweepy Status objects.\n",
    "    Returns: a list of VADER polarity scores of the form\n",
    "             {'neg': 0.0, 'neu': 0.254, 'pos': 0.746, 'compound': 0.8316}\n",
    "    \"\"\"\n",
    "    texts = [tweet.text for tweet in tweets]\n",
    "    analyzer = SentimentIntensityAnalyzer()\n",
    "    return [analyzer.polarity_scores(text) for text in texts]"
   ]
  },
  {
   "cell_type": "code",
   "execution_count": 12,
   "metadata": {},
   "outputs": [
    {
     "data": {
      "text/plain": [
       "[{'compound': -0.6908, 'neg': 0.217, 'neu': 0.783, 'pos': 0.0},\n",
       " {'compound': 0.7096, 'neg': 0.0, 'neu': 0.629, 'pos': 0.371},\n",
       " {'compound': 0.0, 'neg': 0.0, 'neu': 1.0, 'pos': 0.0},\n",
       " {'compound': -0.765, 'neg': 0.32, 'neu': 0.68, 'pos': 0.0},\n",
       " {'compound': 0.0, 'neg': 0.0, 'neu': 1.0, 'pos': 0.0}]"
      ]
     },
     "execution_count": 12,
     "metadata": {},
     "output_type": "execute_result"
    }
   ],
   "source": [
    "org_sentiments = {org: analyze_tweets(tweets) for (org, tweets) in recents.items()}\n",
    "org_sentiments[\"BBC\"][:5]"
   ]
  },
  {
   "cell_type": "code",
   "execution_count": 13,
   "metadata": {},
   "outputs": [
    {
     "data": {
      "text/html": [
       "<div>\n",
       "<style>\n",
       "    .dataframe thead tr:only-child th {\n",
       "        text-align: right;\n",
       "    }\n",
       "\n",
       "    .dataframe thead th {\n",
       "        text-align: left;\n",
       "    }\n",
       "\n",
       "    .dataframe tbody tr th {\n",
       "        vertical-align: top;\n",
       "    }\n",
       "</style>\n",
       "<table border=\"1\" class=\"dataframe\">\n",
       "  <thead>\n",
       "    <tr style=\"text-align: right;\">\n",
       "      <th></th>\n",
       "      <th>date</th>\n",
       "      <th>organization</th>\n",
       "      <th>text</th>\n",
       "      <th>neg</th>\n",
       "      <th>neu</th>\n",
       "      <th>pos</th>\n",
       "      <th>compound</th>\n",
       "    </tr>\n",
       "  </thead>\n",
       "  <tbody>\n",
       "    <tr>\n",
       "      <th>0</th>\n",
       "      <td>2018-04-05</td>\n",
       "      <td>BBC</td>\n",
       "      <td>'There’s the England before Stephen, and there...</td>\n",
       "      <td>0.217</td>\n",
       "      <td>0.783</td>\n",
       "      <td>0.000</td>\n",
       "      <td>-0.6908</td>\n",
       "    </tr>\n",
       "    <tr>\n",
       "      <th>1</th>\n",
       "      <td>2018-04-05</td>\n",
       "      <td>BBC</td>\n",
       "      <td>🐆 Could building walkways in nature help save ...</td>\n",
       "      <td>0.000</td>\n",
       "      <td>0.629</td>\n",
       "      <td>0.371</td>\n",
       "      <td>0.7096</td>\n",
       "    </tr>\n",
       "    <tr>\n",
       "      <th>2</th>\n",
       "      <td>2018-04-05</td>\n",
       "      <td>BBC</td>\n",
       "      <td>😋😋 Pocket-friendly recipes for two.\\n👉 https:/...</td>\n",
       "      <td>0.000</td>\n",
       "      <td>1.000</td>\n",
       "      <td>0.000</td>\n",
       "      <td>0.0000</td>\n",
       "    </tr>\n",
       "    <tr>\n",
       "      <th>3</th>\n",
       "      <td>2018-04-05</td>\n",
       "      <td>BBC</td>\n",
       "      <td>👀 From illegal ivory to taxidermy, take a peek...</td>\n",
       "      <td>0.320</td>\n",
       "      <td>0.680</td>\n",
       "      <td>0.000</td>\n",
       "      <td>-0.7650</td>\n",
       "    </tr>\n",
       "    <tr>\n",
       "      <th>4</th>\n",
       "      <td>2018-04-05</td>\n",
       "      <td>BBC</td>\n",
       "      <td>RT @bbccomedy: Smithy is an irl ray of #sunshi...</td>\n",
       "      <td>0.000</td>\n",
       "      <td>1.000</td>\n",
       "      <td>0.000</td>\n",
       "      <td>0.0000</td>\n",
       "    </tr>\n",
       "  </tbody>\n",
       "</table>\n",
       "</div>"
      ],
      "text/plain": [
       "         date organization                                               text  \\\n",
       "0  2018-04-05          BBC  'There’s the England before Stephen, and there...   \n",
       "1  2018-04-05          BBC  🐆 Could building walkways in nature help save ...   \n",
       "2  2018-04-05          BBC  😋😋 Pocket-friendly recipes for two.\\n👉 https:/...   \n",
       "3  2018-04-05          BBC  👀 From illegal ivory to taxidermy, take a peek...   \n",
       "4  2018-04-05          BBC  RT @bbccomedy: Smithy is an irl ray of #sunshi...   \n",
       "\n",
       "     neg    neu    pos  compound  \n",
       "0  0.217  0.783  0.000   -0.6908  \n",
       "1  0.000  0.629  0.371    0.7096  \n",
       "2  0.000  1.000  0.000    0.0000  \n",
       "3  0.320  0.680  0.000   -0.7650  \n",
       "4  0.000  1.000  0.000    0.0000  "
      ]
     },
     "execution_count": 13,
     "metadata": {},
     "output_type": "execute_result"
    }
   ],
   "source": [
    "df_data = []\n",
    "for org, tweets in recents.items():\n",
    "    for ind, tweet in enumerate(tweets):\n",
    "        df_data.append([\n",
    "            tweet.created_at.date(),\n",
    "            org,\n",
    "            tweet.text,\n",
    "            org_sentiments[org][ind][\"neg\"],\n",
    "            org_sentiments[org][ind][\"neu\"],\n",
    "            org_sentiments[org][ind][\"pos\"],\n",
    "            org_sentiments[org][ind][\"compound\"],\n",
    "        ])\n",
    "tweet_data = pd.DataFrame(df_data)\n",
    "tweet_data.columns = [\"date\", \"organization\", \"text\", \"neg\", \"neu\", \"pos\", \"compound\"]\n",
    "tweet_data.head()"
   ]
  },
  {
   "cell_type": "code",
   "execution_count": 14,
   "metadata": {},
   "outputs": [
    {
     "name": "stdout",
     "output_type": "stream",
     "text": [
      "(400, 7)\n"
     ]
    }
   ],
   "source": [
    "print(tweet_data.shape)"
   ]
  },
  {
   "cell_type": "code",
   "execution_count": 39,
   "metadata": {},
   "outputs": [
    {
     "data": {
      "text/plain": [
       "datetime.date(2018, 2, 26)"
      ]
     },
     "execution_count": 39,
     "metadata": {},
     "output_type": "execute_result"
    }
   ],
   "source": [
    "tweet_data[tweet_data[\"organization\"]==\"CBS\"][\"date\"].min()"
   ]
  },
  {
   "cell_type": "code",
   "execution_count": 36,
   "metadata": {},
   "outputs": [
    {
     "data": {
      "image/png": "[encoded data removed]",
      "text/plain": [
       "<matplotlib.figure.Figure at 0x1b7f1f60>"
      ]
     },
     "metadata": {},
     "output_type": "display_data"
    }
   ],
   "source": [
    "for org in NEWS_ORGS.keys():\n",
    "    subset = tweet_data[tweet_data[\"organization\"]==org]\n",
    "    plt.plot(subset[\"date\"], subset[\"compound\"], 'o', label=org)\n",
    "plt.xlabel(\"Date of Tweet\")\n",
    "plt.ylabel(\"Compound Sentiment Value\")\n",
    "plt.title(f\"Tweet Sentiments Over Time ({date.today()})\")\n",
    "plt.legend(bbox_to_anchor=(1, 1))\n",
    "plt.savefig(f\"{date.today()}-timeseries.png\", bbox_inches=\"tight\")\n",
    "plt.show()"
   ]
  },
  {
   "cell_type": "code",
   "execution_count": 16,
   "metadata": {},
   "outputs": [],
   "source": [
    "tweet_data.to_csv(\"4-5-18-1520_tweet_data.csv\")"
   ]
  },
  {
   "cell_type": "code",
   "execution_count": 38,
   "metadata": {},
   "outputs": [
    {
     "data": {
      "image/png": "[encoded data removed]",
      "text/plain": [
       "<matplotlib.figure.Figure at 0x5506ac8>"
      ]
     },
     "metadata": {},
     "output_type": "display_data"
    }
   ],
   "source": [
    "bins = np.linspace(-1.0, 1.0, 50)\n",
    "for org in NEWS_ORGS.keys():\n",
    "    subset = tweet_data[tweet_data[\"organization\"]==org]\n",
    "    plt.hist(subset[\"compound\"], bins, alpha=0.7, label=org)\n",
    "plt.legend()\n",
    "plt.xlabel(\"Compound Sentiment Value\")\n",
    "plt.ylabel(\"Frequency\")\n",
    "plt.title(f\"Sentiment Value Combined Histogram ({date.today()})\")\n",
    "plt.savefig(f\"{date.today()}-histogram.png\")\n",
    "plt.show()"
   ]
  },
  {
   "cell_type": "code",
   "execution_count": 22,
   "metadata": {},
   "outputs": [
    {
     "data": {
      "text/html": [
       "<div>\n",
       "<style>\n",
       "    .dataframe thead tr:only-child th {\n",
       "        text-align: right;\n",
       "    }\n",
       "\n",
       "    .dataframe thead th {\n",
       "        text-align: left;\n",
       "    }\n",
       "\n",
       "    .dataframe tbody tr th {\n",
       "        vertical-align: top;\n",
       "    }\n",
       "</style>\n",
       "<table border=\"1\" class=\"dataframe\">\n",
       "  <thead>\n",
       "    <tr style=\"text-align: right;\">\n",
       "      <th></th>\n",
       "      <th>neg</th>\n",
       "      <th>neu</th>\n",
       "      <th>pos</th>\n",
       "      <th>compound</th>\n",
       "    </tr>\n",
       "  </thead>\n",
       "  <tbody>\n",
       "    <tr>\n",
       "      <th>count</th>\n",
       "      <td>100.000000</td>\n",
       "      <td>100.000000</td>\n",
       "      <td>100.000000</td>\n",
       "      <td>100.000000</td>\n",
       "    </tr>\n",
       "    <tr>\n",
       "      <th>mean</th>\n",
       "      <td>0.036820</td>\n",
       "      <td>0.888800</td>\n",
       "      <td>0.074380</td>\n",
       "      <td>0.092903</td>\n",
       "    </tr>\n",
       "    <tr>\n",
       "      <th>std</th>\n",
       "      <td>0.081671</td>\n",
       "      <td>0.122069</td>\n",
       "      <td>0.108243</td>\n",
       "      <td>0.372813</td>\n",
       "    </tr>\n",
       "    <tr>\n",
       "      <th>min</th>\n",
       "      <td>0.000000</td>\n",
       "      <td>0.576000</td>\n",
       "      <td>0.000000</td>\n",
       "      <td>-0.875000</td>\n",
       "    </tr>\n",
       "    <tr>\n",
       "      <th>25%</th>\n",
       "      <td>0.000000</td>\n",
       "      <td>0.789000</td>\n",
       "      <td>0.000000</td>\n",
       "      <td>0.000000</td>\n",
       "    </tr>\n",
       "    <tr>\n",
       "      <th>50%</th>\n",
       "      <td>0.000000</td>\n",
       "      <td>0.905000</td>\n",
       "      <td>0.000000</td>\n",
       "      <td>0.000000</td>\n",
       "    </tr>\n",
       "    <tr>\n",
       "      <th>75%</th>\n",
       "      <td>0.000000</td>\n",
       "      <td>1.000000</td>\n",
       "      <td>0.138750</td>\n",
       "      <td>0.361200</td>\n",
       "    </tr>\n",
       "    <tr>\n",
       "      <th>max</th>\n",
       "      <td>0.333000</td>\n",
       "      <td>1.000000</td>\n",
       "      <td>0.371000</td>\n",
       "      <td>0.812200</td>\n",
       "    </tr>\n",
       "  </tbody>\n",
       "</table>\n",
       "</div>"
      ],
      "text/plain": [
       "              neg         neu         pos    compound\n",
       "count  100.000000  100.000000  100.000000  100.000000\n",
       "mean     0.036820    0.888800    0.074380    0.092903\n",
       "std      0.081671    0.122069    0.108243    0.372813\n",
       "min      0.000000    0.576000    0.000000   -0.875000\n",
       "25%      0.000000    0.789000    0.000000    0.000000\n",
       "50%      0.000000    0.905000    0.000000    0.000000\n",
       "75%      0.000000    1.000000    0.138750    0.361200\n",
       "max      0.333000    1.000000    0.371000    0.812200"
      ]
     },
     "execution_count": 22,
     "metadata": {},
     "output_type": "execute_result"
    }
   ],
   "source": [
    "tweet_data[tweet_data[\"organization\"]==\"BBC\"].describe()"
   ]
  },
  {
   "cell_type": "code",
   "execution_count": 23,
   "metadata": {},
   "outputs": [
    {
     "data": {
      "text/html": [
       "<div>\n",
       "<style>\n",
       "    .dataframe thead tr:only-child th {\n",
       "        text-align: right;\n",
       "    }\n",
       "\n",
       "    .dataframe thead th {\n",
       "        text-align: left;\n",
       "    }\n",
       "\n",
       "    .dataframe tbody tr th {\n",
       "        vertical-align: top;\n",
       "    }\n",
       "</style>\n",
       "<table border=\"1\" class=\"dataframe\">\n",
       "  <thead>\n",
       "    <tr style=\"text-align: right;\">\n",
       "      <th></th>\n",
       "      <th>neg</th>\n",
       "      <th>neu</th>\n",
       "      <th>pos</th>\n",
       "      <th>compound</th>\n",
       "    </tr>\n",
       "  </thead>\n",
       "  <tbody>\n",
       "    <tr>\n",
       "      <th>count</th>\n",
       "      <td>100.000000</td>\n",
       "      <td>100.000000</td>\n",
       "      <td>100.000000</td>\n",
       "      <td>100.000000</td>\n",
       "    </tr>\n",
       "    <tr>\n",
       "      <th>mean</th>\n",
       "      <td>0.020860</td>\n",
       "      <td>0.827120</td>\n",
       "      <td>0.152000</td>\n",
       "      <td>0.362195</td>\n",
       "    </tr>\n",
       "    <tr>\n",
       "      <th>std</th>\n",
       "      <td>0.052303</td>\n",
       "      <td>0.134438</td>\n",
       "      <td>0.131051</td>\n",
       "      <td>0.380300</td>\n",
       "    </tr>\n",
       "    <tr>\n",
       "      <th>min</th>\n",
       "      <td>0.000000</td>\n",
       "      <td>0.462000</td>\n",
       "      <td>0.000000</td>\n",
       "      <td>-0.698100</td>\n",
       "    </tr>\n",
       "    <tr>\n",
       "      <th>25%</th>\n",
       "      <td>0.000000</td>\n",
       "      <td>0.747250</td>\n",
       "      <td>0.000000</td>\n",
       "      <td>0.000000</td>\n",
       "    </tr>\n",
       "    <tr>\n",
       "      <th>50%</th>\n",
       "      <td>0.000000</td>\n",
       "      <td>0.821500</td>\n",
       "      <td>0.150500</td>\n",
       "      <td>0.490550</td>\n",
       "    </tr>\n",
       "    <tr>\n",
       "      <th>75%</th>\n",
       "      <td>0.000000</td>\n",
       "      <td>1.000000</td>\n",
       "      <td>0.238000</td>\n",
       "      <td>0.675575</td>\n",
       "    </tr>\n",
       "    <tr>\n",
       "      <th>max</th>\n",
       "      <td>0.230000</td>\n",
       "      <td>1.000000</td>\n",
       "      <td>0.538000</td>\n",
       "      <td>0.945100</td>\n",
       "    </tr>\n",
       "  </tbody>\n",
       "</table>\n",
       "</div>"
      ],
      "text/plain": [
       "              neg         neu         pos    compound\n",
       "count  100.000000  100.000000  100.000000  100.000000\n",
       "mean     0.020860    0.827120    0.152000    0.362195\n",
       "std      0.052303    0.134438    0.131051    0.380300\n",
       "min      0.000000    0.462000    0.000000   -0.698100\n",
       "25%      0.000000    0.747250    0.000000    0.000000\n",
       "50%      0.000000    0.821500    0.150500    0.490550\n",
       "75%      0.000000    1.000000    0.238000    0.675575\n",
       "max      0.230000    1.000000    0.538000    0.945100"
      ]
     },
     "execution_count": 23,
     "metadata": {},
     "output_type": "execute_result"
    }
   ],
   "source": [
    "tweet_data[tweet_data[\"organization\"]==\"CBS\"].describe()"
   ]
  },
  {
   "cell_type": "code",
   "execution_count": 24,
   "metadata": {},
   "outputs": [
    {
     "data": {
      "text/html": [
       "<div>\n",
       "<style>\n",
       "    .dataframe thead tr:only-child th {\n",
       "        text-align: right;\n",
       "    }\n",
       "\n",
       "    .dataframe thead th {\n",
       "        text-align: left;\n",
       "    }\n",
       "\n",
       "    .dataframe tbody tr th {\n",
       "        vertical-align: top;\n",
       "    }\n",
       "</style>\n",
       "<table border=\"1\" class=\"dataframe\">\n",
       "  <thead>\n",
       "    <tr style=\"text-align: right;\">\n",
       "      <th></th>\n",
       "      <th>neg</th>\n",
       "      <th>neu</th>\n",
       "      <th>pos</th>\n",
       "      <th>compound</th>\n",
       "    </tr>\n",
       "  </thead>\n",
       "  <tbody>\n",
       "    <tr>\n",
       "      <th>count</th>\n",
       "      <td>100.000000</td>\n",
       "      <td>100.000000</td>\n",
       "      <td>100.000000</td>\n",
       "      <td>100.000000</td>\n",
       "    </tr>\n",
       "    <tr>\n",
       "      <th>mean</th>\n",
       "      <td>0.097390</td>\n",
       "      <td>0.842250</td>\n",
       "      <td>0.060360</td>\n",
       "      <td>-0.078951</td>\n",
       "    </tr>\n",
       "    <tr>\n",
       "      <th>std</th>\n",
       "      <td>0.119867</td>\n",
       "      <td>0.131574</td>\n",
       "      <td>0.105857</td>\n",
       "      <td>0.412206</td>\n",
       "    </tr>\n",
       "    <tr>\n",
       "      <th>min</th>\n",
       "      <td>0.000000</td>\n",
       "      <td>0.509000</td>\n",
       "      <td>0.000000</td>\n",
       "      <td>-0.865800</td>\n",
       "    </tr>\n",
       "    <tr>\n",
       "      <th>25%</th>\n",
       "      <td>0.000000</td>\n",
       "      <td>0.737750</td>\n",
       "      <td>0.000000</td>\n",
       "      <td>-0.361200</td>\n",
       "    </tr>\n",
       "    <tr>\n",
       "      <th>50%</th>\n",
       "      <td>0.000000</td>\n",
       "      <td>0.855500</td>\n",
       "      <td>0.000000</td>\n",
       "      <td>0.000000</td>\n",
       "    </tr>\n",
       "    <tr>\n",
       "      <th>75%</th>\n",
       "      <td>0.172750</td>\n",
       "      <td>1.000000</td>\n",
       "      <td>0.110250</td>\n",
       "      <td>0.128000</td>\n",
       "    </tr>\n",
       "    <tr>\n",
       "      <th>max</th>\n",
       "      <td>0.416000</td>\n",
       "      <td>1.000000</td>\n",
       "      <td>0.465000</td>\n",
       "      <td>0.888500</td>\n",
       "    </tr>\n",
       "  </tbody>\n",
       "</table>\n",
       "</div>"
      ],
      "text/plain": [
       "              neg         neu         pos    compound\n",
       "count  100.000000  100.000000  100.000000  100.000000\n",
       "mean     0.097390    0.842250    0.060360   -0.078951\n",
       "std      0.119867    0.131574    0.105857    0.412206\n",
       "min      0.000000    0.509000    0.000000   -0.865800\n",
       "25%      0.000000    0.737750    0.000000   -0.361200\n",
       "50%      0.000000    0.855500    0.000000    0.000000\n",
       "75%      0.172750    1.000000    0.110250    0.128000\n",
       "max      0.416000    1.000000    0.465000    0.888500"
      ]
     },
     "execution_count": 24,
     "metadata": {},
     "output_type": "execute_result"
    }
   ],
   "source": [
    "tweet_data[tweet_data[\"organization\"]==\"FOX\"].describe()"
   ]
  },
  {
   "cell_type": "code",
   "execution_count": 25,
   "metadata": {},
   "outputs": [
    {
     "data": {
      "text/html": [
       "<div>\n",
       "<style>\n",
       "    .dataframe thead tr:only-child th {\n",
       "        text-align: right;\n",
       "    }\n",
       "\n",
       "    .dataframe thead th {\n",
       "        text-align: left;\n",
       "    }\n",
       "\n",
       "    .dataframe tbody tr th {\n",
       "        vertical-align: top;\n",
       "    }\n",
       "</style>\n",
       "<table border=\"1\" class=\"dataframe\">\n",
       "  <thead>\n",
       "    <tr style=\"text-align: right;\">\n",
       "      <th></th>\n",
       "      <th>neg</th>\n",
       "      <th>neu</th>\n",
       "      <th>pos</th>\n",
       "      <th>compound</th>\n",
       "    </tr>\n",
       "  </thead>\n",
       "  <tbody>\n",
       "    <tr>\n",
       "      <th>count</th>\n",
       "      <td>100.000000</td>\n",
       "      <td>100.000000</td>\n",
       "      <td>100.000000</td>\n",
       "      <td>100.000000</td>\n",
       "    </tr>\n",
       "    <tr>\n",
       "      <th>mean</th>\n",
       "      <td>0.075600</td>\n",
       "      <td>0.878470</td>\n",
       "      <td>0.045910</td>\n",
       "      <td>-0.094217</td>\n",
       "    </tr>\n",
       "    <tr>\n",
       "      <th>std</th>\n",
       "      <td>0.107205</td>\n",
       "      <td>0.132251</td>\n",
       "      <td>0.080389</td>\n",
       "      <td>0.371639</td>\n",
       "    </tr>\n",
       "    <tr>\n",
       "      <th>min</th>\n",
       "      <td>0.000000</td>\n",
       "      <td>0.408000</td>\n",
       "      <td>0.000000</td>\n",
       "      <td>-0.872000</td>\n",
       "    </tr>\n",
       "    <tr>\n",
       "      <th>25%</th>\n",
       "      <td>0.000000</td>\n",
       "      <td>0.799250</td>\n",
       "      <td>0.000000</td>\n",
       "      <td>-0.411525</td>\n",
       "    </tr>\n",
       "    <tr>\n",
       "      <th>50%</th>\n",
       "      <td>0.000000</td>\n",
       "      <td>0.879500</td>\n",
       "      <td>0.000000</td>\n",
       "      <td>0.000000</td>\n",
       "    </tr>\n",
       "    <tr>\n",
       "      <th>75%</th>\n",
       "      <td>0.153000</td>\n",
       "      <td>1.000000</td>\n",
       "      <td>0.083750</td>\n",
       "      <td>0.025800</td>\n",
       "    </tr>\n",
       "    <tr>\n",
       "      <th>max</th>\n",
       "      <td>0.515000</td>\n",
       "      <td>1.000000</td>\n",
       "      <td>0.418000</td>\n",
       "      <td>0.778300</td>\n",
       "    </tr>\n",
       "  </tbody>\n",
       "</table>\n",
       "</div>"
      ],
      "text/plain": [
       "              neg         neu         pos    compound\n",
       "count  100.000000  100.000000  100.000000  100.000000\n",
       "mean     0.075600    0.878470    0.045910   -0.094217\n",
       "std      0.107205    0.132251    0.080389    0.371639\n",
       "min      0.000000    0.408000    0.000000   -0.872000\n",
       "25%      0.000000    0.799250    0.000000   -0.411525\n",
       "50%      0.000000    0.879500    0.000000    0.000000\n",
       "75%      0.153000    1.000000    0.083750    0.025800\n",
       "max      0.515000    1.000000    0.418000    0.778300"
      ]
     },
     "execution_count": 25,
     "metadata": {},
     "output_type": "execute_result"
    }
   ],
   "source": [
    "tweet_data[tweet_data[\"organization\"]==\"NYT\"].describe()"
   ]
  },
  {
   "cell_type": "markdown",
   "metadata": {},
   "source": [
    "## Conclusions\n",
    "\n",
    "It appears from the first figure that CBS tweets far less than the BBC, and they both tweet less than the NY Times and Fox News.  Both Fox News and the NY Times have all 100 most recent tweets appearing today, while CBS's 100th-most-recent tweet was over a month ago.\n",
    "\n",
    "From the histogram, we can see that CBS, is generally more positive than the other news outlets.  There seems to be a spike around zero, especially for the BBC.  One might hope that that points to a lack of impassioned twitter rants on their part, but it could also be a difference in the language the VADER evaluates.\n",
    "\n",
    "Both the NY Times and Fox News seem to be shifted towards the negative end of the spectrum (although the BBC actually has the overall \"most negative\" tweet)."
   ]
  },
  {
   "cell_type": "code",
   "execution_count": null,
   "metadata": {},
   "outputs": [],
   "source": []
  }
 ],
 "metadata": {
  "kernelspec": {
   "display_name": "Python 3",
   "language": "python",
   "name": "python3"
  },
  "language_info": {
   "codemirror_mode": {
    "name": "ipython",
    "version": 3
   },
   "file_extension": ".py",
   "mimetype": "text/x-python",
   "name": "python",
   "nbconvert_exporter": "python",
   "pygments_lexer": "ipython3",
   "version": "3.6.1"
  }
 },
 "nbformat": 4,
 "nbformat_minor": 2
}
